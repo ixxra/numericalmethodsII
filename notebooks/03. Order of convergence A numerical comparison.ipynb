{
 "metadata": {
  "name": "",
  "signature": "sha256:9bf81f8fa18855f8fa3f4b2de541d95269ed9ba8de2ccf51ecd73fda32e55297"
 },
 "nbformat": 3,
 "nbformat_minor": 0,
 "worksheets": [
  {
   "cells": [
    {
     "cell_type": "heading",
     "level": 1,
     "metadata": {},
     "source": [
      "Order of convergence: A numerical comparison"
     ]
    },
    {
     "cell_type": "markdown",
     "metadata": {},
     "source": [
      "In the previous notebook, we wrote a numeric algorithm to approximate the third derivative of a function up to second order (which is another way to say that our approximation method is of order $O(h^2)$.\n",
      "\n",
      "We are going to repeat the previous algorithm, for many values of *h*, so that we can compare graphically what it means to have a second order method.\n",
      "\n",
      "First, let's import the numeric packages:"
     ]
    },
    {
     "cell_type": "code",
     "collapsed": false,
     "input": [
      "import  numpy as np\n",
      "from matplotlib import pyplot as plt"
     ],
     "language": "python",
     "metadata": {},
     "outputs": [],
     "prompt_number": 1
    },
    {
     "cell_type": "code",
     "collapsed": false,
     "input": [
      "%matplotlib inline"
     ],
     "language": "python",
     "metadata": {},
     "outputs": [],
     "prompt_number": 2
    },
    {
     "cell_type": "markdown",
     "metadata": {},
     "source": [
      "in case the last command could not be executed in your *terminal*, or *notebook server*, you will have to show the ploted graphics by hand, which means that anytime you type something like\n",
      "\n",
      "```python\n",
      "plt.plot(x, y)\n",
      "```\n",
      "\n",
      "next you should type\n",
      "\n",
      "```python\n",
      "plt.show()\n",
      "```\n"
     ]
    },
    {
     "cell_type": "markdown",
     "metadata": {},
     "source": [
      "Let's define an array of different values for $N$, the number of subintervals in which we are going to divide the interval *[-1, 1]*"
     ]
    },
    {
     "cell_type": "code",
     "collapsed": false,
     "input": [
      "N = np.arange(10, 201, 5)\n",
      "N"
     ],
     "language": "python",
     "metadata": {},
     "outputs": [
      {
       "metadata": {},
       "output_type": "pyout",
       "prompt_number": 8,
       "text": [
        "array([ 10,  15,  20,  25,  30,  35,  40,  45,  50,  55,  60,  65,  70,\n",
        "        75,  80,  85,  90,  95, 100, 105, 110, 115, 120, 125, 130, 135,\n",
        "       140, 145, 150, 155, 160, 165, 170, 175, 180, 185, 190, 195, 200])"
       ]
      }
     ],
     "prompt_number": 8
    },
    {
     "cell_type": "markdown",
     "metadata": {},
     "source": [
      "Recall that we want to calculate the third derivative of the gaussian curve $e^{-x^2}$ in the interval *(-1, 1)*, and that we found a second order approximation, given by the formula:\n",
      "\n",
      "$$\n",
      "f^{(3)} = \\frac{-1/2 f_{i - 2} + f_{i - 1} - f_{i + 1} + 1/2 f_{i + 2}}{h^3}\n",
      "$$"
     ]
    },
    {
     "cell_type": "code",
     "collapsed": false,
     "input": [
      "errors = []\n",
      "\n",
      "for n in N:\n",
      "    x = np.linspace(-1, 1, n + 1)\n",
      "    y = np.exp(-x**2)\n",
      "    \n",
      "    idx = np.arange(2, n - 1)\n",
      "    h = 2. / n\n",
      "    dy = (-0.5 * y[idx - 2] + y[idx - 1] - y[idx + 1] + 0.5 * y[idx + 2]) / h**3\n",
      "    \n",
      "    xx = x[idx]\n",
      "    df = 4 * xx * (-2 * xx**2 + 3) * np.exp(-xx**2)\n",
      "    \n",
      "    errors.append(np.std(df - dy))"
     ],
     "language": "python",
     "metadata": {},
     "outputs": [],
     "prompt_number": 12
    },
    {
     "cell_type": "markdown",
     "metadata": {},
     "source": [
      "See the previous section if you have trouble understanding what the previous algorithm does.\n",
      "\n",
      "Lets see a nice graphical representation of the errors"
     ]
    },
    {
     "cell_type": "code",
     "collapsed": false,
     "input": [
      "plt.plot(errors, '.')"
     ],
     "language": "python",
     "metadata": {},
     "outputs": [
      {
       "metadata": {},
       "output_type": "pyout",
       "prompt_number": 13,
       "text": [
        "[<matplotlib.lines.Line2D at 0x7f04fdf3ced0>]"
       ]
      },
      {
       "metadata": {},
       "output_type": "display_data",
       "png": "[encoded data removed]",
       "text": [
        "<matplotlib.figure.Figure at 0x7f04fdf64610>"
       ]
      }
     ],
     "prompt_number": 13
    },
    {
     "cell_type": "markdown",
     "metadata": {},
     "source": [
      "If you are running *ipython* you would need to type \n",
      "\n",
      "```python\n",
      "plt.show()\n",
      "```\n",
      "\n",
      "so you can see the previous image. Apparently, the errors follow an exponential decrement. Let's see what happens when we plot the errors versus the subintervals length."
     ]
    },
    {
     "cell_type": "code",
     "collapsed": false,
     "input": [
      "h = 1. /N\n",
      "plt.plot(h, errors, '.')"
     ],
     "language": "python",
     "metadata": {},
     "outputs": [
      {
       "metadata": {},
       "output_type": "pyout",
       "prompt_number": 15,
       "text": [
        "[<matplotlib.lines.Line2D at 0x7f04fde03810>]"
       ]
      },
      {
       "metadata": {},
       "output_type": "display_data",
       "png": "[encoded data removed]",
       "text": [
        "<matplotlib.figure.Figure at 0x7f04fdf9b210>"
       ]
      }
     ],
     "prompt_number": 15
    },
    {
     "cell_type": "markdown",
     "metadata": {},
     "source": [
      "That seems to be a parabola!. That's the meaning of our method being of *second order in h*.\n",
      "\n",
      "Finnally, let me show you how to interpolate the previous data with a least squares parabola, so we can confirm numerically that indeed, our data is followoing a second order rule."
     ]
    },
    {
     "cell_type": "code",
     "collapsed": false,
     "input": [
      "from scipy.linalg import lstsq\n",
      "\n",
      "errors = np.array(errors)\n",
      "\n",
      "model = np.ones((errors.size, 3))\n",
      "model[:, 1] = h\n",
      "model[:, 2] = h**2\n",
      "\n",
      "(a, b, c), residues, rank, sv = lstsq(model, errors)\n",
      "\n",
      "print 'least squares model for the data:'\n",
      "print '{0} + {1} h + {2} h^2'.format(a, b, c)\n",
      "\n",
      "print 'residues:', residues"
     ],
     "language": "python",
     "metadata": {},
     "outputs": [
      {
       "output_type": "stream",
       "stream": "stdout",
       "text": [
        "least squares model for the data:\n",
        "0.000404869331745 + -0.0723538993707 h + 25.1851708982 h^2\n",
        "residues: 3.42119186073e-07\n"
       ]
      }
     ],
     "prompt_number": 31
    },
    {
     "cell_type": "markdown",
     "metadata": {},
     "source": [
      "Note that the residues are small, so we can be confident that our model fits well. \n",
      "\n",
      "Having calculated the interpolant parabola, let's plot everythin together:"
     ]
    },
    {
     "cell_type": "code",
     "collapsed": false,
     "input": [
      "plt.plot(h, errors, '.b', h, a + b*h + c*h**2, '-r')\n",
      "plt.title('Error in the third derivative formula')\n",
      "plt.xlabel('Nodes separation')\n",
      "plt.ylabel('Standard deviation')\n",
      "plt.legend(['Error', 'Least squares approximation'], loc='upper left')\n",
      "plt.grid()\n"
     ],
     "language": "python",
     "metadata": {},
     "outputs": [
      {
       "metadata": {},
       "output_type": "display_data",
       "png": "[encoded data removed]",
       "text": [
        "<matplotlib.figure.Figure at 0x7f04f7d27410>"
       ]
      }
     ],
     "prompt_number": 45
    },
    {
     "cell_type": "markdown",
     "metadata": {},
     "source": [
      "As you can see in the data, the parabola fits the errors in the approximation. This is what the order of approximation is about.\n",
      "\n",
      "Note that the time of execution of our code should be inversly proportional to the size of the nodal separation. So that the order of approximation can be useful in order to determine for how long our code should run to make a good approximation.\n",
      "\n",
      "**Exercise** \n",
      "\n",
      "1. Can you make a plot of *h vs time*, for the *time* the algorithm runs and for different values of *h*?. \n",
      "2. Can you spot any rule?\n",
      "3. With the data you have collected so far, if we require our method to have a standard deviation no greater than $10^{-9}$, at least how many nodes do we need? For how long do you predict that your algorithm would run?"
     ]
    },
    {
     "cell_type": "code",
     "collapsed": false,
     "input": [],
     "language": "python",
     "metadata": {},
     "outputs": []
    }
   ],
   "metadata": {}
  }
 ]
}
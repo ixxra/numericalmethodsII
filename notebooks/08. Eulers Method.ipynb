{
 "metadata": {
  "name": "",
  "signature": "sha256:16a9fa8854870cf0e0785546924862fcfedcd4f60af797508bb9445bd1a6e6c5"
 },
 "nbformat": 3,
 "nbformat_minor": 0,
 "worksheets": [
  {
   "cells": [
    {
     "cell_type": "heading",
     "level": 1,
     "metadata": {},
     "source": [
      "Euler's Method"
     ]
    },
    {
     "cell_type": "markdown",
     "metadata": {},
     "source": [
      "As stated in the previous section, *Euler's method* for solving the initial value problem, or *IVP* for short,\n",
      "\n",
      "$$\n",
      "\\begin{aligned}\n",
      "x'(t) &= f(x, t),\\\\\n",
      "x(0) &= x_0,     \n",
      "\\end{aligned}\n",
      "$$\n",
      "\n",
      "$t \\geq 0$, consists on expanding the *to be found* solution *x(t)* in Taylor Series:\n",
      "\n",
      "$$\n",
      "x(t + h) = x(t) + x'(t)\\cdot h + \\frac{f''(\\xi)}{2}\\cdot h^2.\n",
      "$$\n",
      "\n",
      "Given that $x(t)$ is a solution of the ordinary differential equation, or *ODE*, then we can make the approximation\n",
      "\n",
      "$$\n",
      "x(t + h) \\approx x(t) + x'(t)\\cdot h.\n",
      "$$\n",
      "\n",
      "Apparently, this is a second order approximation on *h*, but you must be aware that in order to implement this method, we have to *iteratively* approximate the solution for several values of the independent variable *t* which makes the error analysis more complicated.\n",
      "\n",
      "In order to discuss the details on this method, let's start with a not so simple example."
     ]
    },
    {
     "cell_type": "heading",
     "level": 2,
     "metadata": {},
     "source": [
      "Example"
     ]
    },
    {
     "cell_type": "markdown",
     "metadata": {},
     "source": [
      "Solve the *IVP*\n",
      "\n",
      "$$\n",
      "\\begin{aligned}\n",
      "  y' &= y - t^2 + 1,\\\\\n",
      "y(0) &= 0.5\n",
      "\\end{aligned}\n",
      "$$\n",
      "\n",
      "$0 \\leq t \\leq 2$. We are switching notation here in order to be consistents with *Burden*, where this book can be found. First, we will solve the equation symbolically with *sympy*."
     ]
    },
    {
     "cell_type": "code",
     "collapsed": false,
     "input": [
      "import sympy  as sp\n",
      "import numpy as np\n",
      "from matplotlib import pyplot as plt\n",
      "%matplotlib inline"
     ],
     "language": "python",
     "metadata": {},
     "outputs": [],
     "prompt_number": 1
    },
    {
     "cell_type": "code",
     "collapsed": false,
     "input": [
      "y = sp.Function('y')\n",
      "t = sp.symbols('t')\n",
      "\n",
      "sp.dsolve(sp.Derivative(y(t), t) - y(t) + t**2 - 1)"
     ],
     "language": "python",
     "metadata": {},
     "outputs": [
      {
       "metadata": {},
       "output_type": "pyout",
       "prompt_number": 15,
       "text": [
        "y(t) == (C1 + (t**2 + 2*t + 1)*exp(-t))*exp(t)"
       ]
      }
     ],
     "prompt_number": 15
    },
    {
     "cell_type": "markdown",
     "metadata": {},
     "source": [
      "Therefore, the exact solution for this *IVP* is\n",
      "\n",
      "$$\n",
      "y(t) = t^2 + 2t + 1 - 0.5\\,e^t\n",
      "$$"
     ]
    },
    {
     "cell_type": "code",
     "collapsed": false,
     "input": [],
     "language": "python",
     "metadata": {},
     "outputs": []
    }
   ],
   "metadata": {}
  }
 ]
}
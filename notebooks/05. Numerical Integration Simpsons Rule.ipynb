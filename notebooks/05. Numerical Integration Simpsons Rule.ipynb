{
 "metadata": {
  "name": "",
  "signature": "sha256:a52392398fd7ded1dee83ef05c19a43ed15bef2722524b7d820c75d5dda2f281"
 },
 "nbformat": 3,
 "nbformat_minor": 0,
 "worksheets": [
  {
   "cells": [
    {
     "cell_type": "heading",
     "level": 1,
     "metadata": {},
     "source": [
      "Numerical Integration: Simpson'sRule"
     ]
    },
    {
     "cell_type": "markdown",
     "metadata": {},
     "source": [
      "Given a continous integrable function $f(x)$ in the interval $[a, b]$, we can make an approximation to the integral $\\int_a^b f(x) dx$ by interpolating $f(x)$ in a finite set of points within the interval and integrating the interpolant instead of $f(x)$. \n",
      "\n",
      "In the previous notebook we used the *trapezoidal rule* to approximate the integral, which is obtained by interpolating the extreme points $(a, f(a))$, $(b, f(b))$ with a line.\n",
      "\n",
      "In this notebook we will go one order of magnitude up, so to speak, and make another aproximation to the function, this time with a cuadratic polinomial passing through the extreme points and the midpoint $\\left((a + b)/2, f\\left((a + b)/2\\right)\\right)$.\n",
      "\n",
      "Let $c = (a + b)/2$ be the midpoint in the interval $[a, b]$. We are looking por a polinomial \n",
      "\n",
      "$$\n",
      "p(x) = A + B (x - c) + C (x - c)^2,\n",
      "$$\n",
      "\n",
      "such that \n",
      "\n",
      "$$\n",
      "\\begin{aligned}\n",
      "p(a) &= f(a),\\\\\n",
      "p(c) &= f(c),\\\\\n",
      "p(b) &= f(b).\n",
      "\\end{aligned}\n",
      "$$\n",
      "\n",
      "The reason we centered $p(x)$ around the midpoint is that the algebra is easier this way. \n",
      "\n",
      "Obviously, $A = f(c)$. If we define $h = (b - a)/2$ as the distance between two *consecutive nodes*, according to the terminology we have being using so far, then the remaining coefficients should satisfy:\n",
      "\n",
      "$$\n",
      "\\begin{aligned}\n",
      "-B h + C h^2 &= f(a) - f(c)\\\\\n",
      "B h +  C h^2 &= f(b) - f(c)\n",
      "\\end{aligned}\n",
      "$$\n",
      "\n",
      "Therefore\n",
      "\n",
      "$$\n",
      "\\begin{aligned}\n",
      "C &= \\frac{f(a) - 2f(c) + f(b)}{2h^2},\\\\\n",
      "B &= \\frac{f(b) - f(a)}{2h}.\n",
      "\\end{aligned}\n",
      "$$\n",
      "\n",
      "So that after integrating $p(x)$ instead of $f(x)$, we deduce *Simpson's rule:* (*Do the math!*)\n",
      "\n",
      "$$\n",
      "\\int_a^b f(x) dx \\approx  \\left(\\frac{f(a) + 4f(c) + f(b)}{3}\\right)\\cdot h\n",
      "$$\n",
      "\n",
      "If we subdivide the interval in $N$ equal parts, and apply this rule to each part, we obtain the *composite Simpson's rule*:\n",
      "\n",
      "$$\n",
      "\\int_a^b f(x) dx \\approx  \\sum_{i = 1}^N \\left(\\frac{f(x_{i -1}) + 4f(x_i) + f(x_{i + 1})}{3}\\right)\\cdot h,\n",
      "$$\n",
      "\n",
      "just as we did in the case of the trapezoidal rule.\n",
      "\n",
      "Let's apply what we did in the previous notebook to the (composited) Simpson's rule. Recall that we are seeking to approximate the integral \n",
      "\n",
      "$$\n",
      "\\int_0^2 e^{-x}dx.\n",
      "$$"
     ]
    },
    {
     "cell_type": "code",
     "collapsed": false,
     "input": [
      "%matplotlib inline\n",
      "\n",
      "import numpy as np\n",
      "from matplotlib import pyplot as plt\n",
      "\n",
      "x = np.linspace(0, 2, 50)\n",
      "y = np.exp(-x)\n",
      "\n",
      "h = 2 / 2.\n",
      "\n",
      "a, c, b = x[0], x[len(x)/2], x[-1]\n",
      "f_a, f_c, f_b = y[0], y[len(x)/2], y[-1]\n",
      "\n",
      "A, B, C = f_c, (f_b - f_a) / (2. * h), (f_a - 2 * f_c + f_b) / (2. * h**2)\n",
      "\n",
      "plt.plot(x, y, 'b', x, A + B * (x - c) + C * (x - c)**2, 'g', [a, c, b], [f_a, f_c, f_b], 'or')\n",
      "plt.grid()\n",
      "plt.legend(['$e^{-x}$', 'Cuadratic approximation'])"
     ],
     "language": "python",
     "metadata": {},
     "outputs": [
      {
       "metadata": {},
       "output_type": "pyout",
       "prompt_number": 2,
       "text": [
        "<matplotlib.legend.Legend at 0x7f8ef6f22dd0>"
       ]
      },
      {
       "metadata": {},
       "output_type": "display_data",
       "png": "[encoded data removed]",
       "text": [
        "<matplotlib.figure.Figure at 0x7f8ef9c65890>"
       ]
      }
     ],
     "prompt_number": 2
    },
    {
     "cell_type": "markdown",
     "metadata": {},
     "source": [
      "Compare this graphic with that we obtained in the previous notebook. In this example is obvious that we improved the approximation.\n",
      "\n",
      "Let's approximate the integral, this time with this new rule, and with 4, 8 and 16 *subintervals*."
     ]
    },
    {
     "cell_type": "code",
     "collapsed": false,
     "input": [
      "#This is a *lambda expression*, an easy way to define a short function.\n",
      "f = lambda x: np.exp(-x)\n",
      "\n",
      "exact_value = 1 - np.exp(-2)\n",
      "\n",
      "N = (4, 8, 16)\n",
      "\n",
      "header = 'Approximation, Error'\n",
      "\n",
      "print header\n",
      "\n",
      "for i, n in enumerate(N):\n",
      "    x = np.linspace(0, 2, 2 * n + 1)\n",
      "    y = f(x)\n",
      "    \n",
      "    h = 2. / (2. * n)\n",
      "    idx = np.arange(1, len(x) - 1, 2)\n",
      "    \n",
      "    simp_approx = h * sum(y[idx - 1] + 4 * y[idx] + y[idx + 1]) / 3.\n",
      "    \n",
      "    line = '%0.8f, %0.8f' % (simp_approx, abs(exact_value - simp_approx))\n",
      "    \n",
      "    print line.rjust(len(header) + 1)\n",
      "    \n",
      "\n",
      "print \"\"\n",
      "print 'Exact value:', '%0.8f' % exact_value"
     ],
     "language": "python",
     "metadata": {},
     "outputs": [
      {
       "output_type": "stream",
       "stream": "stdout",
       "text": [
        "Approximation, Error\n",
        "0.86468334, 0.00001863\n",
        "0.86466589, 0.00000117\n",
        "0.86466479, 0.00000007\n",
        "\n",
        "Exact value: 0.86466472\n"
       ]
      }
     ],
     "prompt_number": 5
    },
    {
     "cell_type": "markdown",
     "metadata": {},
     "source": [
      "This is very good!, our approximation is by far better than what we obtained in the previous section. So, let's make an educated guess about the order of approximation, plotting the error for several values of *h*. (We could have chosen *N* instead of *h*, but it is customary to use the nodes separation instead)"
     ]
    },
    {
     "cell_type": "code",
     "collapsed": false,
     "input": [
      "N = np.arange(1, 7)\n",
      "\n",
      "errors = []\n",
      "\n",
      "for n in N:\n",
      "    x = np.linspace(0, 2, 2 * n + 1)\n",
      "    y = f(x)\n",
      "    h = 2. / (2 * n)\n",
      "    idx = np.arange(1, len(x) - 1, 2)\n",
      "    simp_approx = h * sum(y[idx - 1] + 4 * y[idx] + y[idx + 1]) / 3.\n",
      "    errors.append(abs(simp_approx - exact_value))\n",
      "    \n",
      "h = 2. / (2 * N)\n",
      "\n",
      "plt.title(\"Error distribution in Simpson's rule\")\n",
      "plt.grid()\n",
      "plt.xlabel('Nodes separation')\n",
      "plt.ylabel('Absolute error')\n",
      "plt.plot(h, errors, 'ro')"
     ],
     "language": "python",
     "metadata": {},
     "outputs": [
      {
       "metadata": {},
       "output_type": "pyout",
       "prompt_number": 33,
       "text": [
        "[<matplotlib.lines.Line2D at 0x7f8ef5daa750>]"
       ]
      },
      {
       "metadata": {},
       "output_type": "display_data",
       "png": "[encoded data removed]",
       "text": [
        "<matplotlib.figure.Figure at 0x7f8ef61bae50>"
       ]
      }
     ],
     "prompt_number": 33
    },
    {
     "cell_type": "markdown",
     "metadata": {},
     "source": [
      "To be honest, it is diffituld to guess the order of approximation by looking to this graphic. Let's make another try:"
     ]
    },
    {
     "cell_type": "code",
     "collapsed": false,
     "input": [
      "print errors / h**2\n",
      "print errors / h**3\n",
      "print errors / h**4\n",
      "print errors / h**5"
     ],
     "language": "python",
     "metadata": {},
     "outputs": [
      {
       "output_type": "stream",
       "stream": "stdout",
       "text": [
        "[ 0.0042863   0.0011661   0.00052676  0.00029801  0.00019124  0.000133  ]\n",
        "[ 0.0042863   0.00233219  0.00158029  0.00119205  0.00095618  0.00079798]\n",
        "[ 0.0042863   0.00466439  0.00474088  0.00476818  0.00478091  0.00478785]\n",
        "[ 0.0042863   0.00932877  0.01422265  0.01907274  0.02390457  0.02872712]\n"
       ]
      }
     ],
     "prompt_number": 35
    },
    {
     "cell_type": "markdown",
     "metadata": {},
     "source": [
      "With this brute force method, you can see that from the four expressions above, only when we divide the errors between the fourth power of the nodes separation, we obtain quotients with the same order of magnitud, and, as it turns out, Simpson's rule order of convergence is $O(h^4)$!\n",
      "\n",
      "*Exercise*\n",
      "\n",
      "1. Using the data above, or your own if you prefer, interpolate the least squares polinomial modeling the error dependency on *h*.\n",
      "2. Use this polinomial to predict how many nodes you would need to approximate the integral with an error less than 10e-9."
     ]
    },
    {
     "cell_type": "code",
     "collapsed": false,
     "input": [],
     "language": "python",
     "metadata": {},
     "outputs": []
    }
   ],
   "metadata": {}
  }
 ]
}
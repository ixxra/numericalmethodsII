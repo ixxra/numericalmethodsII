{
 "metadata": {
  "name": "",
  "signature": "sha256:1d1c47562ccc78a75d70a93f41cd2cf8406bb5e8470edee761c008c340194d06"
 },
 "nbformat": 3,
 "nbformat_minor": 0,
 "worksheets": [
  {
   "cells": [
    {
     "cell_type": "heading",
     "level": 1,
     "metadata": {},
     "source": [
      "Finite Differences Approximations with sympy"
     ]
    },
    {
     "cell_type": "markdown",
     "metadata": {},
     "source": [
      "We are going to deduce a method to approximate the third derivative of a function $f(x)$ using Taylor series.\n",
      "\n",
      "In order to perform the required calculations, we will use *sympy*."
     ]
    },
    {
     "cell_type": "code",
     "collapsed": false,
     "input": [
      "import sympy as sp"
     ],
     "language": "python",
     "metadata": {},
     "outputs": [],
     "prompt_number": 25
    },
    {
     "cell_type": "markdown",
     "metadata": {},
     "source": [
      "We are seeking for a formula:\n",
      "\n",
      "$$\n",
      "f^{(3)} = a_{-2}f_{i - 2} + a_{-1}f_{i - 1} + a_0 f_i + a_1 f_{i + 1} + a_2 f_{i + 2} + O(h^n)\n",
      "$$"
     ]
    },
    {
     "cell_type": "markdown",
     "metadata": {},
     "source": [
      "What we have to do, is to expand *f* in Taylor series around *a* such that\n",
      "\n",
      "$$\n",
      "f(a + k h) = f(a) + f'(a) h + \\frac{f^{(2)}(a)}{2} h^2 + \\frac{f^{(3)}(a)}{3!} h^3 + \\frac{f^{(4)}(a)}{4!} h^4 + O(h^5)\n",
      "$$\n",
      "\n",
      "For brevitty, let's rewrite the previous equation as \n",
      "\n",
      "$$\n",
      "f_k = f_0 + f_0'' h + \\frac{f_0^{(2)}}{2} k^2h^2 + \\frac{f_0^{(3)}}{3!} k^3h^3 + \\frac{f_0^{(4)}}{4!} k^4h^4 + O(h^5),\n",
      "$$\n",
      "\n",
      "note that, given that we ought to find five unknown variables, so that this condition determines the order to which the series has to be truncated. \n",
      "\n",
      "With this notation, the formula we are looking can be rewritten as follows:\n",
      "\n",
      "$$\n",
      "f_0^{(3)} = a_{-2}f_{- 2} + a_{-1}f_{- 1} + a_0 f_0 + a_1 f_{1} + a_2 f_{2} + O(h^n).\n",
      "$$\n",
      "\n",
      "Given the formula, we have to substitute the Taylor approximation everywhere and simplify as appropiated. We are going to do this algebra with the help of *sympy*"
     ]
    },
    {
     "cell_type": "code",
     "collapsed": false,
     "input": [
      "a, a1, a2, a3, a4 = sp.symbols('a a1 a2 a3 a4')\n",
      "f, f1, f2, f3, f4 = sp.symbols('f f1 f2 f3 f4')#Derivatives\n",
      "h = sp.symbols('h')\n",
      "\n",
      "pol = lambda h : f + f1 * h + f2 * h**2 / 2 + f3 * h**3 / 6 + f4 * h**4 / 24"
     ],
     "language": "python",
     "metadata": {},
     "outputs": [],
     "prompt_number": 26
    },
    {
     "cell_type": "markdown",
     "metadata": {},
     "source": [
      "We created five symbols to represent the unknown coefficients in the approximation, $$a, a1, \\ldots, a4$$, five symbols to represent the function and its derivatives, and an extra symbol to represent the taylor expansion.\n",
      "\n",
      "Finnally, we defined *pol* as the Taylor polinomial to order 4. Lets decompose the given formula in Taylor series."
     ]
    },
    {
     "cell_type": "code",
     "collapsed": false,
     "input": [
      "formula = sum([coeff * pol(k * h) for coeff, k in zip([a, a1, a2, a3, a4], range(-2, 3))])\n",
      "print formula"
     ],
     "language": "python",
     "metadata": {},
     "outputs": [
      {
       "output_type": "stream",
       "stream": "stdout",
       "text": [
        "a*(f - 2*f1*h + 2*f2*h**2 - 4*f3*h**3/3 + 2*f4*h**4/3) + a1*(f - f1*h + f2*h**2/2 - f3*h**3/6 + f4*h**4/24) + a2*f + a3*(f + f1*h + f2*h**2/2 + f3*h**3/6 + f4*h**4/24) + a4*(f + 2*f1*h + 2*f2*h**2 + 4*f3*h**3/3 + 2*f4*h**4/3)\n"
       ]
      }
     ],
     "prompt_number": 27
    },
    {
     "cell_type": "markdown",
     "metadata": {},
     "source": [
      "That's a very cumbersome formula, the next step is to convert it in a polinomial, in order to group simmilar terms."
     ]
    },
    {
     "cell_type": "code",
     "collapsed": false,
     "input": [
      "'''\n",
      "This is the list of coefficients for f and its derivatives in the Taylor decomposition.\n",
      "'''\n",
      "coeffs = formula.as_poly(f, f1, f2, f3, f4).coeffs()\n",
      "\n",
      "for c in coeffs:\n",
      "    print c"
     ],
     "language": "python",
     "metadata": {},
     "outputs": [
      {
       "output_type": "stream",
       "stream": "stdout",
       "text": [
        "a + a1 + a2 + a3 + a4\n",
        "-2*a*h - a1*h + a3*h + 2*a4*h\n",
        "2*a*h**2 + a1*h**2/2 + a3*h**2/2 + 2*a4*h**2\n",
        "-4*a*h**3/3 - a1*h**3/6 + a3*h**3/6 + 4*a4*h**3/3\n",
        "2*a*h**4/3 + a1*h**4/24 + a3*h**4/24 + 2*a4*h**4/3\n"
       ]
      }
     ],
     "prompt_number": 28
    },
    {
     "cell_type": "markdown",
     "metadata": {},
     "source": [
      "Comparing the coefficients with the left hand side on the derivative formula, it turns out that all, except the fourth one have to be zero. This fourth term has to be equal to one, because this is the coefficient corresponding to the third derivative."
     ]
    },
    {
     "cell_type": "code",
     "collapsed": false,
     "input": [
      "for c in coeffs:\n",
      "    print c.as_poly(a, a1, a2, a3, a4).coeffs()"
     ],
     "language": "python",
     "metadata": {},
     "outputs": [
      {
       "output_type": "stream",
       "stream": "stdout",
       "text": [
        "[1, 1, 1, 1, 1]\n",
        "[-2*h, -h, h, 2*h]\n",
        "[2*h**2, h**2/2, h**2/2, 2*h**2]\n",
        "[-4*h**3/3, -h**3/6, h**3/6, 4*h**3/3]\n",
        "[2*h**4/3, h**4/24, h**4/24, 2*h**4/3]\n"
       ]
      }
     ],
     "prompt_number": 29
    },
    {
     "cell_type": "code",
     "collapsed": false,
     "input": [
      "M = sp.Matrix([c.as_poly(a, a1, a2, a3, a4).coeffs() for c in coeffs[1:]])\n",
      "print M"
     ],
     "language": "python",
     "metadata": {},
     "outputs": [
      {
       "output_type": "stream",
       "stream": "stdout",
       "text": [
        "Matrix([[-2*h, -h, h, 2*h], [2*h**2, h**2/2, h**2/2, 2*h**2], [-4*h**3/3, -h**3/6, h**3/6, 4*h**3/3], [2*h**4/3, h**4/24, h**4/24, 2*h**4/3]])\n"
       ]
      }
     ],
     "prompt_number": 30
    },
    {
     "cell_type": "code",
     "collapsed": false,
     "input": [
      "M"
     ],
     "language": "python",
     "metadata": {},
     "outputs": [
      {
       "metadata": {},
       "output_type": "pyout",
       "prompt_number": 31,
       "text": [
        "Matrix([\n",
        "[     -2*h,      -h,       h,      2*h],\n",
        "[   2*h**2,  h**2/2,  h**2/2,   2*h**2],\n",
        "[-4*h**3/3, -h**3/6,  h**3/6, 4*h**3/3],\n",
        "[ 2*h**4/3, h**4/24, h**4/24, 2*h**4/3]])"
       ]
      }
     ],
     "prompt_number": 31
    },
    {
     "cell_type": "code",
     "collapsed": false,
     "input": [
      "rhs = sp.Matrix([0, 0, 1, 0])"
     ],
     "language": "python",
     "metadata": {},
     "outputs": [],
     "prompt_number": 22
    },
    {
     "cell_type": "code",
     "collapsed": false,
     "input": [
      "rhs"
     ],
     "language": "python",
     "metadata": {},
     "outputs": [
      {
       "metadata": {},
       "output_type": "pyout",
       "prompt_number": 23,
       "text": [
        "Matrix([\n",
        "[0],\n",
        "[0],\n",
        "[1],\n",
        "[0]])"
       ]
      }
     ],
     "prompt_number": 23
    },
    {
     "cell_type": "code",
     "collapsed": false,
     "input": [
      "M.solve(rhs)"
     ],
     "language": "python",
     "metadata": {},
     "outputs": [
      {
       "metadata": {},
       "output_type": "pyout",
       "prompt_number": 24,
       "text": [
        "Matrix([\n",
        "[-1/(2*h**3)],\n",
        "[    h**(-3)],\n",
        "[    -1/h**3],\n",
        "[ 1/(2*h**3)]])"
       ]
      }
     ],
     "prompt_number": 24
    },
    {
     "cell_type": "markdown",
     "metadata": {},
     "source": [
      "Therefore, in this example:\n",
      "\n",
      "$$\n",
      "\\begin{align*}\n",
      "a_{-2} &= -\\frac{1}{2 h^3} & a_{-1} &= \\frac{1}{h^3} & a_{0} &= 0 & a_{1} &= -\\frac{1}{h^3} & a_{2} &=  \\frac{1}{2 h^3}\n",
      "\\end{align*}\n",
      "$$\n",
      "\n",
      "And the approximation method formula is:\n",
      "\n",
      "$$\n",
      "f^{(3)} = \\frac{-1/2 f_{i - 2} + f_{i - 1} - f_{i + 1} + 1/2 f_{i + 2}}{h^3} - \\frac{1}{2h^3} O(h^5) + \\frac{1}{h^3} O(h^5) - \\frac{1}{h^3} O(h^5) + \\frac{1}{2 h^3} O(h^5)\n",
      "$$\n",
      "\n",
      "Given that $1/h^3$ is of order $O(h^{-3})$, each one of the products in the order terms is of order $O(h^2)$ (**Homework**), and our third derivative formula is of order $O(h^2)$:\n",
      "\n",
      "$$\n",
      "f^{(3)} = \\frac{-1/2 f_{i - 2} + f_{i - 1} - f_{i + 1} + 1/2 f_{i + 2}}{h^3} + O(h^2)\n",
      "$$\n",
      "\n",
      "In the next section we will implement this approximation with *numpy*."
     ]
    },
    {
     "cell_type": "code",
     "collapsed": false,
     "input": [],
     "language": "python",
     "metadata": {},
     "outputs": []
    }
   ],
   "metadata": {}
  }
 ]
}
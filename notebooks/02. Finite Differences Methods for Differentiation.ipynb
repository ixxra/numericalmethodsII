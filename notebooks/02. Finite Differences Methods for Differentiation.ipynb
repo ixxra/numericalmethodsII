{
 "metadata": {
  "name": "",
  "signature": "sha256:9d187ba8cafa1035f0af69744084967bde7707016d93d09f4e0df5a7db6dbb9e"
 },
 "nbformat": 3,
 "nbformat_minor": 0,
 "worksheets": [
  {
   "cells": [
    {
     "cell_type": "heading",
     "level": 1,
     "metadata": {},
     "source": [
      "Finite Differences Methods for Differentiation"
     ]
    },
    {
     "cell_type": "markdown",
     "metadata": {},
     "source": [
      "In the past notebook we deduced a finite differences method to approximate the third derivative of a function up to order $h^2$. \n",
      "\n",
      "Recall the finite differences formula:\n",
      "\n",
      "$$\n",
      "f^{(3)} = \\frac{-1/2 f_{i - 2} + f_{i - 1} - f_{i + 1} + 1/2 f_{i + 2}}{h^3} + O(h^2)\n",
      "$$\n",
      "\n",
      "In this notebook we will implement this algorithm with *numpy*. Let's begin by importing *numpy* and *matplotlib*, as a graphical representation of the solution would be nice."
     ]
    },
    {
     "cell_type": "code",
     "collapsed": false,
     "input": [
      "import numpy as np\n",
      "from matplotlib import pyplot as plt\n",
      "%matplotlib inline"
     ],
     "language": "python",
     "metadata": {},
     "outputs": [],
     "prompt_number": 1
    },
    {
     "cell_type": "markdown",
     "metadata": {},
     "source": [
      "The first two lines loaded *numpy* and *pyplot*. The last line is a *magic* function, it makes the notebook *autodisplay* the graphics we will generate, so to speak.\n",
      "\n",
      "Just to be more concise, suppose we are interested in approximate the third derivative of a given function, let's say the function is\n",
      "\n",
      "$$\n",
      "f(x) = e^{-x^2},\n",
      "$$\n",
      "\n",
      "and $-1 \\leq x \\leq 1$.\n",
      "\n",
      "What we have to do first, is to generate a set of numerical values for the variable $x$ in the given interval, which in numerical analysis argon, is to say that we have to select a set of *nodes*. We will do this with the *linspace command*:"
     ]
    },
    {
     "cell_type": "code",
     "collapsed": false,
     "input": [
      "x = np.linspace(-1, 1, 50)\n",
      "y = np.exp(-x**2)\n",
      "\n",
      "plt.plot(x, y)"
     ],
     "language": "python",
     "metadata": {},
     "outputs": [
      {
       "metadata": {},
       "output_type": "pyout",
       "prompt_number": 2,
       "text": [
        "[<matplotlib.lines.Line2D at 0x7f0e18027c50>]"
       ]
      },
      {
       "metadata": {},
       "output_type": "display_data",
       "png": "[encoded data removed]",
       "text": [
        "<matplotlib.figure.Figure at 0x7f0e18092290>"
       ]
      }
     ],
     "prompt_number": 2
    },
    {
     "cell_type": "markdown",
     "metadata": {},
     "source": [
      "We have generated fifty nodes equally spaced in the interval $[-1, 1]$, and evaluated the given function in those nodes in order to generate a nice graphical representation of the target function.\n",
      "\n",
      "Note that in *python*, array values are numbered from *0* up to the total length of the array minus one (that is, the last node in this example has index 49). So that in this example, the third derivative formula is only valid for \n",
      "\n",
      "$$\n",
      "2 \\leq i \\leq 47\n",
      "$$"
     ]
    },
    {
     "cell_type": "code",
     "collapsed": false,
     "input": [
      "idx = np.arange(2, 48)\n",
      "h = 2 / 49.\n",
      "\n",
      "dy = (-0.5 * y[idx - 2] + y[idx - 1] - y[idx + 1] + 0.5 * y[idx + 2]) / h**3"
     ],
     "language": "python",
     "metadata": {},
     "outputs": [],
     "prompt_number": 3
    },
    {
     "cell_type": "markdown",
     "metadata": {},
     "source": [
      "In the previous entry, we declared an array of index, *idx*, so that if we check out the value of *idx* we obtain accordingly:"
     ]
    },
    {
     "cell_type": "code",
     "collapsed": false,
     "input": [
      "print idx"
     ],
     "language": "python",
     "metadata": {},
     "outputs": [
      {
       "output_type": "stream",
       "stream": "stdout",
       "text": [
        "[ 2  3  4  5  6  7  8  9 10 11 12 13 14 15 16 17 18 19 20 21 22 23 24 25 26\n",
        " 27 28 29 30 31 32 33 34 35 36 37 38 39 40 41 42 43 44 45 46 47]\n"
       ]
      }
     ],
     "prompt_number": 4
    },
    {
     "cell_type": "markdown",
     "metadata": {},
     "source": [
      "Those are the node's indices for which  the approximation formula is valid. In this example, the function domain has length 2, and if we have fifty nodes, that means that two consecutive nodes are separated by $2/49$ units of length. \n",
      "\n",
      "Finnally we have used *numpy's* slice notation in order to perform the calculations. For example, the notation $y[idx - 2]$ is called *index selection*, and basically means to apply the given arithmetic to each value in the array *y* from the value with index 0 up to the value with index 45, as the bigest index in the list is 47."
     ]
    },
    {
     "cell_type": "markdown",
     "metadata": {},
     "source": [
      "The variable *dy* contains the approximation to the third derivative we deduced in the previous notebooks, for the nodes with indices from 2 to 47. The exact formula for the third derivative of the function is \n",
      "\n",
      "$$\n",
      "4 x (-2 x^2 + 3) \\exp^{-x^2}\n",
      "$$\n",
      "\n",
      "Let's compare the approximation to the true value in a graphical way:"
     ]
    },
    {
     "cell_type": "code",
     "collapsed": false,
     "input": [
      "xx = x[idx]\n",
      "df = 4 * xx * (-2 * xx**2 + 3) * np.exp(-xx**2)\n",
      "\n",
      "plt.plot(xx, dy, 'r*', xx, df, 'b-')\n",
      "plt.legend(['Numerical approximation', 'Exact formula'])\n",
      "plt.title('Approximation to the third derivative of exp(-x^2)')"
     ],
     "language": "python",
     "metadata": {},
     "outputs": [
      {
       "metadata": {},
       "output_type": "pyout",
       "prompt_number": 6,
       "text": [
        "<matplotlib.text.Text at 0x7f0e0ff88910>"
       ]
      },
      {
       "metadata": {},
       "output_type": "display_data",
       "png": "[encoded data removed]",
       "text": [
        "<matplotlib.figure.Figure at 0x7f0e10057d90>"
       ]
      }
     ],
     "prompt_number": 6
    },
    {
     "cell_type": "markdown",
     "metadata": {},
     "source": [
      "As you can see, our approximation is very good. We can measure how accurate our approximation is in a cuantitative way as well, but we have to define a way to measure the differences between the approximations and the exact values. A natural way to define such measure is by means of the *standard deviation*:"
     ]
    },
    {
     "cell_type": "code",
     "collapsed": false,
     "input": [
      "print 'Standard deviation from the approximation to the solution:', np.std(df - dy)\n",
      "print 'Nodal separation:', h"
     ],
     "language": "python",
     "metadata": {},
     "outputs": [
      {
       "output_type": "stream",
       "stream": "stdout",
       "text": [
        "Standard deviation from the approximation to the solution: 0.00953733825333\n",
        "Nodal separation: 0.0408163265306\n"
       ]
      }
     ],
     "prompt_number": 8
    },
    {
     "cell_type": "markdown",
     "metadata": {},
     "source": [
      "As you can see, the nodes are separated about $4/100$ in absolute units, and the deviation in the formula is about $9/1000$, would you have expected those orders of magnitude, given you know the formula is of order $O(h^2)$?\n",
      "\n",
      "**Exercise:** \n",
      "\n",
      "- Repeat the calculations in this notebook, for the same function and interval, but for different values of *h*. Let's say you create an array of *h's*: *H = [20, 25, 30, ..., 50]*. Make a plot of *H* vs the standard deviation of the error in each case. Do you find any pattern in the plot?\n",
      "\n",
      "- If there is a pattern in the plot, try to elaborate a justification."
     ]
    },
    {
     "cell_type": "code",
     "collapsed": false,
     "input": [],
     "language": "python",
     "metadata": {},
     "outputs": []
    }
   ],
   "metadata": {}
  }
 ]
}